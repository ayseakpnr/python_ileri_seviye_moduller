{
 "cells": [
  {
   "cell_type": "code",
   "execution_count": 9,
   "id": "7f5e5965",
   "metadata": {},
   "outputs": [],
   "source": [
    "import torch\n",
    "from PIL import Image\n",
    "import numpy as np\n",
    "from RealESRGAN import RealESRGAN\n",
    "import time"
   ]
  },
  {
   "cell_type": "code",
   "execution_count": 11,
   "id": "98094910",
   "metadata": {},
   "outputs": [
    {
     "name": "stdout",
     "output_type": "stream",
     "text": [
      "Çözünürlük Artırma İşlemi Başladı\n",
      "Algoritma Çalışma Süresi = 243.9779076576233\n"
     ]
    }
   ],
   "source": [
    "device = torch.device('cuda' if torch.cuda.is_available() else 'cpu')\n",
    "\n",
    "model = RealESRGAN(device, scale=4)\n",
    "model.load_weights('weights/RealESRGAN_x4.pth', download=True)\n",
    "\n",
    "path_to_image = 'inputs/ayseakpnaar_profile_pic.jpg'\n",
    "image = Image.open(path_to_image).convert('RGB')\n",
    "\n",
    "print(\"Çözünürlük Artırma İşlemi Başladı\")\n",
    "basla = time.time()\n",
    "sr_image = model.predict(image)\n",
    "\n",
    "bitir = time.time()\n",
    "\n",
    "sr_image.save('results/sr_image_2.png')\n",
    "\n",
    "print(f\"Algoritma Çalışma Süresi = {str(bitir-basla)}\")"
   ]
  },
  {
   "cell_type": "code",
   "execution_count": null,
   "id": "e0e91023",
   "metadata": {},
   "outputs": [],
   "source": []
  }
 ],
 "metadata": {
  "kernelspec": {
   "display_name": "env_ybs_3",
   "language": "python",
   "name": "env_ybs_3"
  },
  "language_info": {
   "codemirror_mode": {
    "name": "ipython",
    "version": 3
   },
   "file_extension": ".py",
   "mimetype": "text/x-python",
   "name": "python",
   "nbconvert_exporter": "python",
   "pygments_lexer": "ipython3",
   "version": "3.10.10"
  }
 },
 "nbformat": 4,
 "nbformat_minor": 5
}
